{
 "metadata": {
  "name": "",
  "signature": "sha256:e1893cead0406801e9b20dbbf6d6d7aa7ffb8ba2404aacf15a419f6c24e6d387"
 },
 "nbformat": 3,
 "nbformat_minor": 0,
 "worksheets": []
}