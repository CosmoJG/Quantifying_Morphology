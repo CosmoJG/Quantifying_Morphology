{
 "metadata": {
  "name": "",
  "signature": "sha256:4b8914a803669e92d00043139559f4e02df2d0f7ea3d83c633f3f8ce6c146384"
 },
 "nbformat": 3,
 "nbformat_minor": 0,
 "worksheets": [
  {
   "cells": [
    {
     "cell_type": "markdown",
     "metadata": {},
     "source": [
      "# EZ python\n",
      "\n",
      "_I did this in 3 minutes_\n"
     ]
    },
    {
     "cell_type": "code",
     "collapsed": false,
     "input": [
      "# Load JSON\n",
      "import json"
     ],
     "language": "python",
     "metadata": {},
     "outputs": [],
     "prompt_number": 1
    },
    {
     "cell_type": "code",
     "collapsed": false,
     "input": [
      "# Infile\n",
      "infile = '/home/alex/data/adriane/data/taper_fits_json.txt'\n",
      "tapers = json.load(open(infile, 'r')) #'r' is read, 'w' is write\n",
      "#                                       'rb' and 'wb' are for binary, 'a' = append\n",
      "# Look at the dictionary contents\n",
      "print(tapers.keys())\n",
      "print(tapers['cells'])"
     ],
     "language": "python",
     "metadata": {},
     "outputs": [
      {
       "output_type": "stream",
       "stream": "stdout",
       "text": [
        "dict_keys(['Y_fitdiams', 'X_distances', 'cells', 'target_distances', 'target_diams'])\n",
        "['878_061_GM_scaled', '878_057_GM_firstpass_scaled', '878_062_GM_scaled', '878_049_GM_firstpass_scaled', '878_041_GM_firstpass_scaled', '878_045_GM_scaled', '878_056_GM_scaled', '878_053_GM_scaled', '878_043_GM_scaled', '878_065_GM_scaled']\n"
       ]
      }
     ],
     "prompt_number": 3
    },
    {
     "cell_type": "code",
     "collapsed": false,
     "input": [
      "print(len(tapers['X_distances'][0][0]))\n",
      "print(len(tapers['target_distances'][0]))"
     ],
     "language": "python",
     "metadata": {},
     "outputs": [
      {
       "output_type": "stream",
       "stream": "stdout",
       "text": [
        "100\n",
        "8\n"
       ]
      }
     ],
     "prompt_number": 12
    },
    {
     "cell_type": "code",
     "collapsed": false,
     "input": [
      "outdir = '/home/alex/data/adriane/data/fitted_tapers/'\n",
      "for c in range(len(tapers['cells'])): # For each cell\n",
      "    # X-Y plots first\n",
      "    ofile = outdir+tapers['cells'][c]+'_X-Y.txt'\n",
      "    with open(ofile, 'w') as fOut:\n",
      "        for target in range(len(tapers['X_distances'][c])):\n",
      "            for el in range(len(tapers['X_distances'][c][target])):\n",
      "                fOut.write('%.3f\\t%.3f\\n' \n",
      "                           %(tapers['X_distances'][c][target][el], \n",
      "                             tapers['Y_fitdiams'][c][target][el]))\n",
      "    print('%s written' %ofile)\n",
      "    ofile2 = outdir+tapers['cells'][c]+'_targets.txt'\n",
      "    with open(ofile2, 'w') as fOut:\n",
      "        for target in range(len(tapers['target_distances'][c])):\n",
      "            fOut.write('%.3f\\t%.3f\\n' \n",
      "                       %(tapers['target_distances'][c][target],\n",
      "                         tapers['target_diams'][c][target]))\n",
      "    print('%s written' %ofile2)\n",
      "        \n"
     ],
     "language": "python",
     "metadata": {},
     "outputs": [
      {
       "output_type": "stream",
       "stream": "stdout",
       "text": [
        "/home/alex/data/adriane/data/fitted_tapers/878_061_GM_scaled_X-Y.txt written\n",
        "/home/alex/data/adriane/data/fitted_tapers/878_061_GM_scaled_targets.txt written\n",
        "/home/alex/data/adriane/data/fitted_tapers/878_057_GM_firstpass_scaled_X-Y.txt written\n",
        "/home/alex/data/adriane/data/fitted_tapers/878_057_GM_firstpass_scaled_targets.txt written\n",
        "/home/alex/data/adriane/data/fitted_tapers/878_062_GM_scaled_X-Y.txt written\n",
        "/home/alex/data/adriane/data/fitted_tapers/878_062_GM_scaled_targets.txt written\n",
        "/home/alex/data/adriane/data/fitted_tapers/878_049_GM_firstpass_scaled_X-Y.txt written\n",
        "/home/alex/data/adriane/data/fitted_tapers/878_049_GM_firstpass_scaled_targets.txt written\n",
        "/home/alex/data/adriane/data/fitted_tapers/878_041_GM_firstpass_scaled_X-Y.txt written\n",
        "/home/alex/data/adriane/data/fitted_tapers/878_041_GM_firstpass_scaled_targets.txt written\n",
        "/home/alex/data/adriane/data/fitted_tapers/878_045_GM_scaled_X-Y.txt written\n",
        "/home/alex/data/adriane/data/fitted_tapers/878_045_GM_scaled_targets.txt written\n",
        "/home/alex/data/adriane/data/fitted_tapers/878_056_GM_scaled_X-Y.txt written\n",
        "/home/alex/data/adriane/data/fitted_tapers/878_056_GM_scaled_targets.txt written\n",
        "/home/alex/data/adriane/data/fitted_tapers/878_053_GM_scaled_X-Y.txt written\n",
        "/home/alex/data/adriane/data/fitted_tapers/878_053_GM_scaled_targets.txt written\n",
        "/home/alex/data/adriane/data/fitted_tapers/878_043_GM_scaled_X-Y.txt written\n",
        "/home/alex/data/adriane/data/fitted_tapers/878_043_GM_scaled_targets.txt written\n",
        "/home/alex/data/adriane/data/fitted_tapers/878_065_GM_scaled_X-Y.txt written\n",
        "/home/alex/data/adriane/data/fitted_tapers/878_065_GM_scaled_targets.txt written\n"
       ]
      }
     ],
     "prompt_number": 13
    },
    {
     "cell_type": "code",
     "collapsed": false,
     "input": [],
     "language": "python",
     "metadata": {},
     "outputs": []
    }
   ],
   "metadata": {}
  }
 ]
}